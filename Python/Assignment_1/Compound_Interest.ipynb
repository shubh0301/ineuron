{
 "cells": [
  {
   "cell_type": "code",
   "execution_count": 9,
   "metadata": {},
   "outputs": [
    {
     "name": "stdout",
     "output_type": "stream",
     "text": [
      "Enter Principle amount : 100\n",
      "Enter the rate1\n",
      "number of times interest applied per time period : 1\n",
      "number of time periods1\n",
      "200.0\n"
     ]
    }
   ],
   "source": [
    "# Python Program for compound interest\n",
    "\n",
    "P = float(input('Enter Principle amount : '))\n",
    "R = float(input('Enter the rate'))\n",
    "n = int(input('number of times interest applied per time period : '))\n",
    "T = int(input('number of time periods'))\n",
    "\n",
    "nt = n*T\n",
    "result = P*(1+ (R/n))**(nt)\n",
    "print(result)"
   ]
  },
  {
   "cell_type": "code",
   "execution_count": null,
   "metadata": {},
   "outputs": [],
   "source": []
  }
 ],
 "metadata": {
  "kernelspec": {
   "display_name": "Python 3",
   "language": "python",
   "name": "python3"
  },
  "language_info": {
   "codemirror_mode": {
    "name": "ipython",
    "version": 3
   },
   "file_extension": ".py",
   "mimetype": "text/x-python",
   "name": "python",
   "nbconvert_exporter": "python",
   "pygments_lexer": "ipython3",
   "version": "3.7.3"
  }
 },
 "nbformat": 4,
 "nbformat_minor": 2
}
