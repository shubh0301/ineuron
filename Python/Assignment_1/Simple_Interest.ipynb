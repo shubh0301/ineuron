{
 "cells": [
  {
   "cell_type": "code",
   "execution_count": 1,
   "metadata": {},
   "outputs": [
    {
     "name": "stdout",
     "output_type": "stream",
     "text": [
      "Enter the principle amount : 100\n",
      "Enter the rate1\n",
      "Enter the time1\n",
      "1.0\n"
     ]
    }
   ],
   "source": [
    "# Python Program for simple interest\n",
    "\n",
    "P = float(input('Enter the principle amount : '))\n",
    "R = float(input('Enter the rate'))\n",
    "T = int(input('Enter the time'))\n",
    "\n",
    "result = (P*R*T)/100\n",
    "print(result)"
   ]
  },
  {
   "cell_type": "code",
   "execution_count": null,
   "metadata": {},
   "outputs": [],
   "source": []
  }
 ],
 "metadata": {
  "kernelspec": {
   "display_name": "Python 3",
   "language": "python",
   "name": "python3"
  },
  "language_info": {
   "codemirror_mode": {
    "name": "ipython",
    "version": 3
   },
   "file_extension": ".py",
   "mimetype": "text/x-python",
   "name": "python",
   "nbconvert_exporter": "python",
   "pygments_lexer": "ipython3",
   "version": "3.7.3"
  }
 },
 "nbformat": 4,
 "nbformat_minor": 2
}
